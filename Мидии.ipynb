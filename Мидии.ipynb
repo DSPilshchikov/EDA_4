{
 "cells": [
  {
   "cell_type": "code",
   "execution_count": 1,
   "metadata": {},
   "outputs": [],
   "source": [
    "import pandas as pd\n",
    "from scipy.stats import shapiro\n",
    "from scipy.stats import spearmanr\n",
    "from scipy.stats import ttest_ind"
   ]
  },
  {
   "attachments": {},
   "cell_type": "markdown",
   "metadata": {},
   "source": [
    "Создание фрейма данных о размерах мидий Санкт-Петербурга и Магадана."
   ]
  },
  {
   "cell_type": "code",
   "execution_count": 2,
   "metadata": {},
   "outputs": [],
   "source": [
    "petersburg = [0.0974, 0.1352, 0.0817, 0.1016, 0.0968, 0.1064, 0.105]\n",
    "magadan = [0.1033, 0.0915, 0.0781, 0.0685, 0.0677, 0.0697, 0.0764, 0.0689]\n",
    "magadan.pop(0)\n",
    "\n",
    "df = pd.DataFrame({              \n",
    "     'Питер': petersburg,\n",
    "     'Магадан': magadan })"
   ]
  },
  {
   "attachments": {},
   "cell_type": "markdown",
   "metadata": {},
   "source": [
    "Для выбора корелляционного теста необходимо знать тип распределения данных в датафрейме. В качестве теста на нормальность используем тест Шапиро-Уилка."
   ]
  },
  {
   "cell_type": "code",
   "execution_count": 3,
   "metadata": {},
   "outputs": [
    {
     "name": "stdout",
     "output_type": "stream",
     "text": [
      "p=0.040\n",
      "Данные не распределены нормально (мы отвергаем H0)\n"
     ]
    }
   ],
   "source": [
    "H0 = 'Данные распределены нормально'\n",
    "Ha = 'Данные не распределены нормально (мы отвергаем H0)'\n",
    "alpha = 0.05\n",
    "\n",
    "_, p = shapiro(magadan) # проверяем на нормальность данные о мидиях Магадана\n",
    "print('p=%.3f' % p)\n",
    "\n",
    "if p > alpha:\n",
    "\tprint(H0)\n",
    "else:\n",
    "\tprint(Ha)"
   ]
  },
  {
   "cell_type": "code",
   "execution_count": 4,
   "metadata": {},
   "outputs": [
    {
     "name": "stdout",
     "output_type": "stream",
     "text": [
      "p=0.242\n",
      "Данные распределены нормально\n"
     ]
    }
   ],
   "source": [
    "_, p = shapiro(petersburg)  # проверяем на нормальность данные о мидиях Санкт-Петербурга\n",
    "print('p=%.3f' % p)\n",
    "\n",
    "if p > alpha:\n",
    "\tprint(H0)\n",
    "else:\n",
    "\tprint(Ha)"
   ]
  },
  {
   "attachments": {},
   "cell_type": "markdown",
   "metadata": {},
   "source": [
    "Так как данные о мидиях Магадана не распределены нормально,  выбираем корелляционный тест Спирмена."
   ]
  },
  {
   "cell_type": "code",
   "execution_count": 6,
   "metadata": {},
   "outputs": [
    {
     "name": "stdout",
     "output_type": "stream",
     "text": [
      "0.4316113520383278 > 0.05. Мы не можем отвергнуть нулевую гипотезу об отсутсвии зависимости между переменными.\n"
     ]
    }
   ],
   "source": [
    "# magadan.pop(0)\n",
    "corr, p = spearmanr(petersburg, magadan)\n",
    "if p > alpha:\n",
    "    print(f\"{p} > {alpha}. Мы не можем отвергнуть нулевую гипотезу об отсутсвии зависимости между переменными.\")\n",
    "else:\n",
    "    print(f\"{p} <= {alpha}. Мы отвергаем нулевую гипотезу об отсутсвии зависимости между переменными.\")"
   ]
  },
  {
   "attachments": {},
   "cell_type": "markdown",
   "metadata": {},
   "source": [
    "Корелляционный тест Спирмена указывает на отсутствие связи между переменными"
   ]
  },
  {
   "attachments": {},
   "cell_type": "markdown",
   "metadata": {},
   "source": [
    "Для сранения выборок выбираем независимый T-тест, так ка зависимая переменная (размер мидии) является количественной и выборки представляют разные совокупности. "
   ]
  },
  {
   "cell_type": "code",
   "execution_count": 7,
   "metadata": {},
   "outputs": [
    {
     "name": "stdout",
     "output_type": "stream",
     "text": [
      "0.0013 <= 0.05. Мы отвергаем нулевую гипотезу. Есть значимая разница между размерами мидий Санкт-Петербурга и Магадана.\n"
     ]
    }
   ],
   "source": [
    "H0 = 'Нет значимой разницы между размерами мидий Санкт-Петербурга и Магадана.'\n",
    "Ha = 'Есть значимая разница между размерами мидий Санкт-Петербурга и Магадана.'\n",
    "\n",
    "test_results = ttest_ind(df['Питер'], df['Магадан'], equal_var=True)\n",
    "\n",
    "p = round(test_results[1],4)\n",
    "\n",
    "if p>alpha:\n",
    "    print(f\"{p} > {alpha}. Мы не можем отвергнуть нулевую гипотезу. {H0}\")\n",
    "else:\n",
    "    print(f\"{p} <= {alpha}. Мы отвергаем нулевую гипотезу. {Ha}\")"
   ]
  }
 ],
 "metadata": {
  "kernelspec": {
   "display_name": "Python 3",
   "language": "python",
   "name": "python3"
  },
  "language_info": {
   "codemirror_mode": {
    "name": "ipython",
    "version": 3
   },
   "file_extension": ".py",
   "mimetype": "text/x-python",
   "name": "python",
   "nbconvert_exporter": "python",
   "pygments_lexer": "ipython3",
   "version": "3.9.10"
  },
  "orig_nbformat": 4,
  "vscode": {
   "interpreter": {
    "hash": "dfcffeffee39bc9b34f2eec708b300bbb2abe6d8d6b574a41f12c1fb439a30e3"
   }
  }
 },
 "nbformat": 4,
 "nbformat_minor": 2
}
